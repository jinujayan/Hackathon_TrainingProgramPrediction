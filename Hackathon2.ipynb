{
 "cells": [
  {
   "cell_type": "code",
   "execution_count": 101,
   "metadata": {},
   "outputs": [],
   "source": [
    "import pandas as pd\n",
    "import matplotlib.pyplot as plt\n",
    "import numpy as np\n",
    "import gc\n",
    "from sklearn.model_selection import train_test_split\n",
    "from sklearn.ensemble import RandomForestClassifier\n",
    "from sklearn import metrics\n",
    "import json\n",
    "import pickle"
   ]
  },
  {
   "cell_type": "code",
   "execution_count": 3,
   "metadata": {},
   "outputs": [],
   "source": [
    "skill_program_df = pd.read_excel(\"TrainingProgram_Dataset.xlsx\", sheet_name = 'Completion Data Clean', header=0)\n",
    "userinfo_app_demo_df = pd.read_excel(\"TrainingProgram_Dataset.xlsx\", sheet_name = 'App & Demo Data ', header=0)\n",
    "essay_df = pd.read_excel(\"TrainingProgram_Dataset.xlsx\", sheet_name = 'Essay Scores & Distance', header=0)"
   ]
  },
  {
   "cell_type": "code",
   "execution_count": 4,
   "metadata": {},
   "outputs": [],
   "source": [
    "skill_program_df.columns = [c.lower().replace(' ','_').replace('_/_', '-').replace('(', '').replace(')', '').replace('_-_', '_') for c in skill_program_df.columns.tolist() ]\n",
    "userinfo_app_demo_df.columns = [c.lower().replace(' ','_').replace('_/_', '-').replace('(', '').replace(')', '').replace('_-_', '_') for c in userinfo_app_demo_df.columns.tolist() ]\n",
    "essay_df.columns = [c.lower().replace(' ','_').replace('_/_', '-').replace('(', '').replace(')', '').replace('_-_', '_') for c in essay_df.columns.tolist() ]"
   ]
  },
  {
   "cell_type": "code",
   "execution_count": 5,
   "metadata": {},
   "outputs": [],
   "source": [
    "skill_program_df = skill_program_df.astype({'canvas_course_name':'category', 'unit':'category','record_type':'category','course_name':'category','section_name':'category'})\n",
    "#skill_program_df = skill_program_df.astype({'canvas_course_name':'category', 'unit':'category','record_type':'category','course_name':'category','section_name':'category'})"
   ]
  },
  {
   "cell_type": "code",
   "execution_count": 5,
   "metadata": {},
   "outputs": [
    {
     "data": {
      "text/plain": [
       "Index(['canvas_user_id', 'course_id', 'canvas_course_name', 'day_of_start_at',\n",
       "       'fake_applicant_id', 'fake_first_name-given_name', 'title',\n",
       "       'title_clean', 'record_type', 'unit', 'include?', 'day_of_submitted_at',\n",
       "       'day_of_due_at', 'grade', 'excused', 'submitted?', 'attendance',\n",
       "       'section_canvas_course_id', 'course_name', 'section_name',\n",
       "       'day_of_course_start_date', 'enrollment_status', 'date_difference',\n",
       "       'completed?'],\n",
       "      dtype='object')"
      ]
     },
     "execution_count": 5,
     "metadata": {},
     "output_type": "execute_result"
    }
   ],
   "source": [
    "skill_program_df.columns"
   ]
  },
  {
   "cell_type": "code",
   "execution_count": 6,
   "metadata": {},
   "outputs": [
    {
     "data": {
      "text/plain": [
       "Index(['course_name', 'section_name', 'day_of_course_start_date',\n",
       "       'day_of_applied_to_course_date', 'fake_applicant_id',\n",
       "       'fake_first_name-given_name', 'fake_last_name-surname_',\n",
       "       'fake_email_address', 'age_birthday_masked', 'race', 'gender', 'income',\n",
       "       'education', 'major', 'city', 'state', 'zip_code', 'promise_zone?',\n",
       "       'maxlearner_test_score', 'points_possible_on_learner_test',\n",
       "       'primary_interest_in_course', 'hours_coded',\n",
       "       'how_many_hours_a_week_can_you_commit_to_class', 'enrollment_status',\n",
       "       'promise_zone_indicator', 'hacker_rank_score', 'essay_1_-_score_1',\n",
       "       'essay_1_-_score_2', 'essay_1_-_score_3', 'essay_2_-_score_1',\n",
       "       'essay_2_-_score_2', 'essay_2_-_score_3', 'essay_3_-_score_1',\n",
       "       'essay_3_-_score_2', 'essay_3_-_score_3', 'max_essay_score',\n",
       "       'average_essay_score', 'completed?'],\n",
       "      dtype='object')"
      ]
     },
     "execution_count": 6,
     "metadata": {},
     "output_type": "execute_result"
    }
   ],
   "source": [
    "userinfo_app_demo_df.columns"
   ]
  },
  {
   "cell_type": "code",
   "execution_count": 43,
   "metadata": {},
   "outputs": [],
   "source": [
    "#skill_program_df.head(100000).astype({'canvas_course_name':'category', 'unit':'category','record_type':'category','course_name':'category','section_name':'category'}).memory_usage(deep=True)\n",
    "#skill_program_df.head(100000).astype({'canvas_course_name':'category', 'unit':'category','record_type':'category','course_name':'category','section_name':'category'}).info(memory_usage='deep')\n",
    "skill_program_df = skill_program_df.astype({'canvas_course_name':'category', 'unit':'category','record_type':'category','course_name':'category','section_name':'category'})"
   ]
  },
  {
   "cell_type": "code",
   "execution_count": 191,
   "metadata": {},
   "outputs": [
    {
     "data": {
      "text/plain": [
       "(1321, 38)"
      ]
     },
     "execution_count": 191,
     "metadata": {},
     "output_type": "execute_result"
    }
   ],
   "source": [
    "userinfo_app_demo_df.loc[userinfo_app_demo_df.average_essay_score.isnull()].shape"
   ]
  },
  {
   "cell_type": "code",
   "execution_count": 6,
   "metadata": {},
   "outputs": [],
   "source": [
    "merged_df = pd.merge(skill_program_df, userinfo_app_demo_df, how='left', left_on=['fake_applicant_id', 'course_name','section_name'], right_on=['fake_applicant_id', 'course_name','section_name'])\n",
    "#merged2_df = pd.merge(skill_program_df, userinfo_app_demo_df, how='outer', left_on=['fake_applicant_id'], right_on=['fake_applicant_id'])"
   ]
  },
  {
   "cell_type": "code",
   "execution_count": 193,
   "metadata": {},
   "outputs": [
    {
     "data": {
      "text/plain": [
       "(109782, 59)"
      ]
     },
     "execution_count": 193,
     "metadata": {},
     "output_type": "execute_result"
    }
   ],
   "source": [
    "merged_df.loc[merged_df.average_essay_score.isnull()].shape"
   ]
  },
  {
   "cell_type": "code",
   "execution_count": 200,
   "metadata": {},
   "outputs": [
    {
     "data": {
      "text/plain": [
       "(52770, 61)"
      ]
     },
     "execution_count": 200,
     "metadata": {},
     "output_type": "execute_result"
    }
   ],
   "source": [
    "merged2_df.loc[merged2_df.average_essay_score.notnull()].shape"
   ]
  },
  {
   "cell_type": "code",
   "execution_count": 10,
   "metadata": {},
   "outputs": [
    {
     "data": {
      "text/html": [
       "<div>\n",
       "<style scoped>\n",
       "    .dataframe tbody tr th:only-of-type {\n",
       "        vertical-align: middle;\n",
       "    }\n",
       "\n",
       "    .dataframe tbody tr th {\n",
       "        vertical-align: top;\n",
       "    }\n",
       "\n",
       "    .dataframe thead th {\n",
       "        text-align: right;\n",
       "    }\n",
       "</style>\n",
       "<table border=\"1\" class=\"dataframe\">\n",
       "  <thead>\n",
       "    <tr style=\"text-align: right;\">\n",
       "      <th></th>\n",
       "      <th>canvas_user_id</th>\n",
       "      <th>course_id</th>\n",
       "      <th>canvas_course_name</th>\n",
       "      <th>day_of_start_at</th>\n",
       "      <th>fake_applicant_id</th>\n",
       "      <th>fake_first_name-given_name_x</th>\n",
       "      <th>title</th>\n",
       "      <th>title_clean</th>\n",
       "      <th>record_type</th>\n",
       "      <th>unit</th>\n",
       "      <th>...</th>\n",
       "      <th>essay_1_-_score_3</th>\n",
       "      <th>essay_2_-_score_1</th>\n",
       "      <th>essay_2_-_score_2</th>\n",
       "      <th>essay_2_-_score_3</th>\n",
       "      <th>essay_3_-_score_1</th>\n",
       "      <th>essay_3_-_score_2</th>\n",
       "      <th>essay_3_-_score_3</th>\n",
       "      <th>max_essay_score</th>\n",
       "      <th>average_essay_score</th>\n",
       "      <th>completed?_y</th>\n",
       "    </tr>\n",
       "  </thead>\n",
       "  <tbody>\n",
       "    <tr>\n",
       "      <th>0</th>\n",
       "      <td>1822.0</td>\n",
       "      <td>77.0</td>\n",
       "      <td>Org101 St. Louis - South County (Summer 2017)</td>\n",
       "      <td>2017-07-17</td>\n",
       "      <td>10124</td>\n",
       "      <td>Anne Aranda</td>\n",
       "      <td>ðŸ˜ Blogz</td>\n",
       "      <td>Blogz</td>\n",
       "      <td>Large Assignment</td>\n",
       "      <td>Unit 2</td>\n",
       "      <td>...</td>\n",
       "      <td>NaN</td>\n",
       "      <td>NaN</td>\n",
       "      <td>NaN</td>\n",
       "      <td>NaN</td>\n",
       "      <td>NaN</td>\n",
       "      <td>NaN</td>\n",
       "      <td>NaN</td>\n",
       "      <td>NaN</td>\n",
       "      <td>NaN</td>\n",
       "      <td>0.0</td>\n",
       "    </tr>\n",
       "    <tr>\n",
       "      <th>1</th>\n",
       "      <td>1822.0</td>\n",
       "      <td>77.0</td>\n",
       "      <td>Org101 St. Louis - South County (Summer 2017)</td>\n",
       "      <td>2017-07-17</td>\n",
       "      <td>10124</td>\n",
       "      <td>Anne Aranda</td>\n",
       "      <td>ðŸ˜ Build-a-Blog</td>\n",
       "      <td>Build-a-Blog</td>\n",
       "      <td>Large Assignment</td>\n",
       "      <td>Unit 2</td>\n",
       "      <td>...</td>\n",
       "      <td>NaN</td>\n",
       "      <td>NaN</td>\n",
       "      <td>NaN</td>\n",
       "      <td>NaN</td>\n",
       "      <td>NaN</td>\n",
       "      <td>NaN</td>\n",
       "      <td>NaN</td>\n",
       "      <td>NaN</td>\n",
       "      <td>NaN</td>\n",
       "      <td>0.0</td>\n",
       "    </tr>\n",
       "    <tr>\n",
       "      <th>2</th>\n",
       "      <td>1822.0</td>\n",
       "      <td>77.0</td>\n",
       "      <td>Org101 St. Louis - South County (Summer 2017)</td>\n",
       "      <td>2017-07-17</td>\n",
       "      <td>10124</td>\n",
       "      <td>Anne Aranda</td>\n",
       "      <td>ðŸ¹ Chapter 10 Assignment</td>\n",
       "      <td>Chapter 10 Assignment</td>\n",
       "      <td>Small Assignment</td>\n",
       "      <td>Unit 1</td>\n",
       "      <td>...</td>\n",
       "      <td>NaN</td>\n",
       "      <td>NaN</td>\n",
       "      <td>NaN</td>\n",
       "      <td>NaN</td>\n",
       "      <td>NaN</td>\n",
       "      <td>NaN</td>\n",
       "      <td>NaN</td>\n",
       "      <td>NaN</td>\n",
       "      <td>NaN</td>\n",
       "      <td>0.0</td>\n",
       "    </tr>\n",
       "  </tbody>\n",
       "</table>\n",
       "<p>3 rows × 59 columns</p>\n",
       "</div>"
      ],
      "text/plain": [
       "   canvas_user_id  course_id                             canvas_course_name  \\\n",
       "0          1822.0       77.0  Org101 St. Louis - South County (Summer 2017)   \n",
       "1          1822.0       77.0  Org101 St. Louis - South County (Summer 2017)   \n",
       "2          1822.0       77.0  Org101 St. Louis - South County (Summer 2017)   \n",
       "\n",
       "  day_of_start_at  fake_applicant_id fake_first_name-given_name_x  \\\n",
       "0      2017-07-17              10124                  Anne Aranda   \n",
       "1      2017-07-17              10124                  Anne Aranda   \n",
       "2      2017-07-17              10124                  Anne Aranda   \n",
       "\n",
       "                        title            title_clean       record_type  \\\n",
       "0                  ðŸ˜ Blogz                  Blogz  Large Assignment   \n",
       "1           ðŸ˜ Build-a-Blog           Build-a-Blog  Large Assignment   \n",
       "2  ðŸ¹ Chapter 10 Assignment  Chapter 10 Assignment  Small Assignment   \n",
       "\n",
       "     unit  ... essay_1_-_score_3 essay_2_-_score_1 essay_2_-_score_2  \\\n",
       "0  Unit 2  ...               NaN               NaN               NaN   \n",
       "1  Unit 2  ...               NaN               NaN               NaN   \n",
       "2  Unit 1  ...               NaN               NaN               NaN   \n",
       "\n",
       "  essay_2_-_score_3  essay_3_-_score_1  essay_3_-_score_2 essay_3_-_score_3  \\\n",
       "0               NaN                NaN                NaN               NaN   \n",
       "1               NaN                NaN                NaN               NaN   \n",
       "2               NaN                NaN                NaN               NaN   \n",
       "\n",
       "   max_essay_score average_essay_score completed?_y  \n",
       "0              NaN                 NaN          0.0  \n",
       "1              NaN                 NaN          0.0  \n",
       "2              NaN                 NaN          0.0  \n",
       "\n",
       "[3 rows x 59 columns]"
      ]
     },
     "execution_count": 10,
     "metadata": {},
     "output_type": "execute_result"
    }
   ],
   "source": [
    "merged_df.head(3)"
   ]
  },
  {
   "cell_type": "code",
   "execution_count": 16,
   "metadata": {},
   "outputs": [
    {
     "data": {
      "text/plain": [
       "Index(['canvas_user_id', 'course_id', 'canvas_course_name', 'day_of_start_at',\n",
       "       'fake_applicant_id', 'fake_first_name-given_name_x', 'title',\n",
       "       'title_clean', 'record_type', 'unit', 'include?', 'day_of_submitted_at',\n",
       "       'day_of_due_at', 'grade', 'excused', 'submitted?', 'attendance',\n",
       "       'section_canvas_course_id', 'course_name', 'section_name',\n",
       "       'day_of_course_start_date_x', 'enrollment_status_x', 'date_difference',\n",
       "       'completed?_x', 'day_of_course_start_date_y',\n",
       "       'day_of_applied_to_course_date', 'fake_first_name-given_name_y',\n",
       "       'fake_last_name-surname_', 'fake_email_address', 'age_birthday_masked',\n",
       "       'race', 'gender', 'income', 'education', 'major', 'city', 'state',\n",
       "       'zip_code', 'promise_zone?', 'maxlearner_test_score',\n",
       "       'points_possible_on_learner_test', 'primary_interest_in_course',\n",
       "       'hours_coded', 'how_many_hours_a_week_can_you_commit_to_class',\n",
       "       'enrollment_status_y', 'promise_zone_indicator', 'hacker_rank_score',\n",
       "       'essay_1_-_score_1', 'essay_1_-_score_2', 'essay_1_-_score_3',\n",
       "       'essay_2_-_score_1', 'essay_2_-_score_2', 'essay_2_-_score_3',\n",
       "       'essay_3_-_score_1', 'essay_3_-_score_2', 'essay_3_-_score_3',\n",
       "       'max_essay_score', 'average_essay_score', 'completed?_y'],\n",
       "      dtype='object')"
      ]
     },
     "execution_count": 16,
     "metadata": {},
     "output_type": "execute_result"
    }
   ],
   "source": [
    "merged_df.columns"
   ]
  },
  {
   "cell_type": "code",
   "execution_count": 152,
   "metadata": {},
   "outputs": [
    {
     "name": "stdout",
     "output_type": "stream",
     "text": [
      "<class 'pandas.core.frame.DataFrame'>\n",
      "Int64Index: 159080 entries, 0 to 159079\n",
      "Data columns (total 59 columns):\n",
      "canvas_user_id                                   159079 non-null float64\n",
      "course_id                                        159079 non-null float64\n",
      "canvas_course_name                               159079 non-null category\n",
      "day_of_start_at                                  159079 non-null datetime64[ns]\n",
      "fake_applicant_id                                159080 non-null int64\n",
      "fake_first_name-given_name_x                     159080 non-null object\n",
      "title                                            159079 non-null object\n",
      "title_clean                                      159079 non-null object\n",
      "record_type                                      157524 non-null category\n",
      "unit                                             157524 non-null category\n",
      "include?                                         159080 non-null object\n",
      "day_of_submitted_at                              27611 non-null datetime64[ns]\n",
      "day_of_due_at                                    156861 non-null datetime64[ns]\n",
      "grade                                            70369 non-null object\n",
      "excused                                          71814 non-null float64\n",
      "submitted?                                       100256 non-null float64\n",
      "attendance                                       58823 non-null object\n",
      "section_canvas_course_id                         159079 non-null float64\n",
      "course_name                                      159079 non-null object\n",
      "section_name                                     159079 non-null object\n",
      "day_of_course_start_date_x                       159079 non-null datetime64[ns]\n",
      "enrollment_status_x                              159079 non-null object\n",
      "date_difference                                  26373 non-null float64\n",
      "completed?_x                                     159079 non-null float64\n",
      "day_of_course_start_date_y                       146698 non-null datetime64[ns]\n",
      "day_of_applied_to_course_date                    146698 non-null datetime64[ns]\n",
      "fake_first_name-given_name_y                     146698 non-null object\n",
      "fake_last_name-surname_                          146698 non-null object\n",
      "fake_email_address                               146698 non-null object\n",
      "age_birthday_masked                              146698 non-null float64\n",
      "race                                             146698 non-null object\n",
      "gender                                           146698 non-null object\n",
      "income                                           146698 non-null object\n",
      "education                                        146306 non-null object\n",
      "major                                            5723 non-null object\n",
      "city                                             146698 non-null object\n",
      "state                                            146698 non-null object\n",
      "zip_code                                         146698 non-null float64\n",
      "promise_zone?                                    146698 non-null float64\n",
      "maxlearner_test_score                            146698 non-null float64\n",
      "points_possible_on_learner_test                  146698 non-null float64\n",
      "primary_interest_in_course                       146698 non-null object\n",
      "hours_coded                                      146698 non-null object\n",
      "how_many_hours_a_week_can_you_commit_to_class    146698 non-null object\n",
      "enrollment_status_y                              146698 non-null object\n",
      "promise_zone_indicator                           146698 non-null object\n",
      "hacker_rank_score                                146698 non-null float64\n",
      "essay_1_-_score_1                                48560 non-null float64\n",
      "essay_1_-_score_2                                49298 non-null float64\n",
      "essay_1_-_score_3                                0 non-null float64\n",
      "essay_2_-_score_1                                48560 non-null float64\n",
      "essay_2_-_score_2                                49298 non-null float64\n",
      "essay_2_-_score_3                                0 non-null float64\n",
      "essay_3_-_score_1                                48560 non-null float64\n",
      "essay_3_-_score_2                                49298 non-null float64\n",
      "essay_3_-_score_3                                0 non-null float64\n",
      "max_essay_score                                  49298 non-null float64\n",
      "average_essay_score                              49298 non-null float64\n",
      "completed?_y                                     146698 non-null float64\n",
      "dtypes: category(3), datetime64[ns](6), float64(25), int64(1), object(24)\n",
      "memory usage: 74.6+ MB\n"
     ]
    }
   ],
   "source": [
    "merged_df.info()"
   ]
  },
  {
   "cell_type": "code",
   "execution_count": 120,
   "metadata": {},
   "outputs": [
    {
     "data": {
      "text/html": [
       "<div>\n",
       "<style scoped>\n",
       "    .dataframe tbody tr th:only-of-type {\n",
       "        vertical-align: middle;\n",
       "    }\n",
       "\n",
       "    .dataframe tbody tr th {\n",
       "        vertical-align: top;\n",
       "    }\n",
       "\n",
       "    .dataframe thead th {\n",
       "        text-align: right;\n",
       "    }\n",
       "</style>\n",
       "<table border=\"1\" class=\"dataframe\">\n",
       "  <thead>\n",
       "    <tr style=\"text-align: right;\">\n",
       "      <th></th>\n",
       "      <th>canvas_user_id</th>\n",
       "      <th>course_id</th>\n",
       "      <th>canvas_course_name</th>\n",
       "      <th>day_of_start_at</th>\n",
       "      <th>fake_applicant_id</th>\n",
       "      <th>fake_first_name-given_name_x</th>\n",
       "      <th>title</th>\n",
       "      <th>title_clean</th>\n",
       "      <th>record_type</th>\n",
       "      <th>unit</th>\n",
       "      <th>...</th>\n",
       "      <th>essay_1_-_score_3</th>\n",
       "      <th>essay_2_-_score_1</th>\n",
       "      <th>essay_2_-_score_2</th>\n",
       "      <th>essay_2_-_score_3</th>\n",
       "      <th>essay_3_-_score_1</th>\n",
       "      <th>essay_3_-_score_2</th>\n",
       "      <th>essay_3_-_score_3</th>\n",
       "      <th>max_essay_score</th>\n",
       "      <th>average_essay_score</th>\n",
       "      <th>completed?_y</th>\n",
       "    </tr>\n",
       "  </thead>\n",
       "  <tbody>\n",
       "    <tr>\n",
       "      <th>0</th>\n",
       "      <td>1822.0</td>\n",
       "      <td>77.0</td>\n",
       "      <td>Org101 St. Louis - South County (Summer 2017)</td>\n",
       "      <td>2017-07-17</td>\n",
       "      <td>10124</td>\n",
       "      <td>Anne Aranda</td>\n",
       "      <td>ðŸ˜ Blogz</td>\n",
       "      <td>Blogz</td>\n",
       "      <td>Large Assignment</td>\n",
       "      <td>Unit 2</td>\n",
       "      <td>...</td>\n",
       "      <td>NaN</td>\n",
       "      <td>NaN</td>\n",
       "      <td>NaN</td>\n",
       "      <td>NaN</td>\n",
       "      <td>NaN</td>\n",
       "      <td>NaN</td>\n",
       "      <td>NaN</td>\n",
       "      <td>NaN</td>\n",
       "      <td>NaN</td>\n",
       "      <td>0.0</td>\n",
       "    </tr>\n",
       "    <tr>\n",
       "      <th>1</th>\n",
       "      <td>1822.0</td>\n",
       "      <td>77.0</td>\n",
       "      <td>Org101 St. Louis - South County (Summer 2017)</td>\n",
       "      <td>2017-07-17</td>\n",
       "      <td>10124</td>\n",
       "      <td>Anne Aranda</td>\n",
       "      <td>ðŸ˜ Build-a-Blog</td>\n",
       "      <td>Build-a-Blog</td>\n",
       "      <td>Large Assignment</td>\n",
       "      <td>Unit 2</td>\n",
       "      <td>...</td>\n",
       "      <td>NaN</td>\n",
       "      <td>NaN</td>\n",
       "      <td>NaN</td>\n",
       "      <td>NaN</td>\n",
       "      <td>NaN</td>\n",
       "      <td>NaN</td>\n",
       "      <td>NaN</td>\n",
       "      <td>NaN</td>\n",
       "      <td>NaN</td>\n",
       "      <td>0.0</td>\n",
       "    </tr>\n",
       "    <tr>\n",
       "      <th>2</th>\n",
       "      <td>1822.0</td>\n",
       "      <td>77.0</td>\n",
       "      <td>Org101 St. Louis - South County (Summer 2017)</td>\n",
       "      <td>2017-07-17</td>\n",
       "      <td>10124</td>\n",
       "      <td>Anne Aranda</td>\n",
       "      <td>ðŸ¹ Chapter 10 Assignment</td>\n",
       "      <td>Chapter 10 Assignment</td>\n",
       "      <td>Small Assignment</td>\n",
       "      <td>Unit 1</td>\n",
       "      <td>...</td>\n",
       "      <td>NaN</td>\n",
       "      <td>NaN</td>\n",
       "      <td>NaN</td>\n",
       "      <td>NaN</td>\n",
       "      <td>NaN</td>\n",
       "      <td>NaN</td>\n",
       "      <td>NaN</td>\n",
       "      <td>NaN</td>\n",
       "      <td>NaN</td>\n",
       "      <td>0.0</td>\n",
       "    </tr>\n",
       "    <tr>\n",
       "      <th>3</th>\n",
       "      <td>1822.0</td>\n",
       "      <td>77.0</td>\n",
       "      <td>Org101 St. Louis - South County (Summer 2017)</td>\n",
       "      <td>2017-07-17</td>\n",
       "      <td>10124</td>\n",
       "      <td>Anne Aranda</td>\n",
       "      <td>ðŸ¹ Chapter 11 Assignment</td>\n",
       "      <td>Chapter 11 Assignment</td>\n",
       "      <td>Small Assignment</td>\n",
       "      <td>Unit 1</td>\n",
       "      <td>...</td>\n",
       "      <td>NaN</td>\n",
       "      <td>NaN</td>\n",
       "      <td>NaN</td>\n",
       "      <td>NaN</td>\n",
       "      <td>NaN</td>\n",
       "      <td>NaN</td>\n",
       "      <td>NaN</td>\n",
       "      <td>NaN</td>\n",
       "      <td>NaN</td>\n",
       "      <td>0.0</td>\n",
       "    </tr>\n",
       "    <tr>\n",
       "      <th>4</th>\n",
       "      <td>1822.0</td>\n",
       "      <td>77.0</td>\n",
       "      <td>Org101 St. Louis - South County (Summer 2017)</td>\n",
       "      <td>2017-07-17</td>\n",
       "      <td>10124</td>\n",
       "      <td>Anne Aranda</td>\n",
       "      <td>ðŸ¹ Chapter 12 Assignment</td>\n",
       "      <td>Chapter 12 Assignment</td>\n",
       "      <td>Small Assignment</td>\n",
       "      <td>Unit 1</td>\n",
       "      <td>...</td>\n",
       "      <td>NaN</td>\n",
       "      <td>NaN</td>\n",
       "      <td>NaN</td>\n",
       "      <td>NaN</td>\n",
       "      <td>NaN</td>\n",
       "      <td>NaN</td>\n",
       "      <td>NaN</td>\n",
       "      <td>NaN</td>\n",
       "      <td>NaN</td>\n",
       "      <td>0.0</td>\n",
       "    </tr>\n",
       "  </tbody>\n",
       "</table>\n",
       "<p>5 rows × 59 columns</p>\n",
       "</div>"
      ],
      "text/plain": [
       "   canvas_user_id  course_id                             canvas_course_name  \\\n",
       "0          1822.0       77.0  Org101 St. Louis - South County (Summer 2017)   \n",
       "1          1822.0       77.0  Org101 St. Louis - South County (Summer 2017)   \n",
       "2          1822.0       77.0  Org101 St. Louis - South County (Summer 2017)   \n",
       "3          1822.0       77.0  Org101 St. Louis - South County (Summer 2017)   \n",
       "4          1822.0       77.0  Org101 St. Louis - South County (Summer 2017)   \n",
       "\n",
       "  day_of_start_at  fake_applicant_id fake_first_name-given_name_x  \\\n",
       "0      2017-07-17              10124                  Anne Aranda   \n",
       "1      2017-07-17              10124                  Anne Aranda   \n",
       "2      2017-07-17              10124                  Anne Aranda   \n",
       "3      2017-07-17              10124                  Anne Aranda   \n",
       "4      2017-07-17              10124                  Anne Aranda   \n",
       "\n",
       "                        title            title_clean       record_type  \\\n",
       "0                  ðŸ˜ Blogz                  Blogz  Large Assignment   \n",
       "1           ðŸ˜ Build-a-Blog           Build-a-Blog  Large Assignment   \n",
       "2  ðŸ¹ Chapter 10 Assignment  Chapter 10 Assignment  Small Assignment   \n",
       "3  ðŸ¹ Chapter 11 Assignment  Chapter 11 Assignment  Small Assignment   \n",
       "4  ðŸ¹ Chapter 12 Assignment  Chapter 12 Assignment  Small Assignment   \n",
       "\n",
       "     unit  ... essay_1_-_score_3 essay_2_-_score_1 essay_2_-_score_2  \\\n",
       "0  Unit 2  ...               NaN               NaN               NaN   \n",
       "1  Unit 2  ...               NaN               NaN               NaN   \n",
       "2  Unit 1  ...               NaN               NaN               NaN   \n",
       "3  Unit 1  ...               NaN               NaN               NaN   \n",
       "4  Unit 1  ...               NaN               NaN               NaN   \n",
       "\n",
       "  essay_2_-_score_3  essay_3_-_score_1  essay_3_-_score_2 essay_3_-_score_3  \\\n",
       "0               NaN                NaN                NaN               NaN   \n",
       "1               NaN                NaN                NaN               NaN   \n",
       "2               NaN                NaN                NaN               NaN   \n",
       "3               NaN                NaN                NaN               NaN   \n",
       "4               NaN                NaN                NaN               NaN   \n",
       "\n",
       "   max_essay_score average_essay_score completed?_y  \n",
       "0              NaN                 NaN          0.0  \n",
       "1              NaN                 NaN          0.0  \n",
       "2              NaN                 NaN          0.0  \n",
       "3              NaN                 NaN          0.0  \n",
       "4              NaN                 NaN          0.0  \n",
       "\n",
       "[5 rows x 59 columns]"
      ]
     },
     "execution_count": 120,
     "metadata": {},
     "output_type": "execute_result"
    }
   ],
   "source": [
    "merged_df.head(5)"
   ]
  },
  {
   "cell_type": "code",
   "execution_count": 7,
   "metadata": {},
   "outputs": [],
   "source": [
    "#essay_df = essay_df.apply(lambda x : x.fillna(0) if x.dtype.kind == 'biufc' else ' ')\n",
    "#essay_df.loc[essay_df['max_score'] == 2].head(28)\n",
    "cols_fillna = ['essay_1_score_1','essay_1_score_2','essay_1_score_3','essay_2_score_1','essay_2_score_2','essay_2_score_3','essay_3_score_1','essay_3_score_2','essay_3_score_3']\n",
    "essay_df[cols_fillna]=essay_df[cols_fillna].fillna(-1)"
   ]
  },
  {
   "cell_type": "code",
   "execution_count": 8,
   "metadata": {},
   "outputs": [],
   "source": [
    "def evaluateEssayAverage(row):\n",
    "    score_list = [row.essay_1_score_1,row.essay_1_score_2,row.essay_1_score_3,row.essay_2_score_1,row.essay_2_score_2,row.essay_2_score_3,row.essay_3_score_1,row.essay_3_score_2,row.essay_3_score_3]\n",
    "    percentage = (sum(x for x in score_list if x>=0)/(sum(1 for x in score_list if x>=0)*row.max_score + 0.001))*100\n",
    "    return percentage"
   ]
  },
  {
   "cell_type": "code",
   "execution_count": 9,
   "metadata": {},
   "outputs": [],
   "source": [
    "essay_df['essay_percentage'] = essay_df.apply(evaluateEssayAverage, axis=1)"
   ]
  },
  {
   "cell_type": "code",
   "execution_count": 123,
   "metadata": {},
   "outputs": [
    {
     "data": {
      "text/plain": [
       "Index(['course', 'fake_email', 'fake_helper', 'essay_1_score_1',\n",
       "       'essay_1_score_2', 'essay_1_score_3', 'essay_2_score_1',\n",
       "       'essay_2_score_2', 'essay_2_score_3', 'essay_3_score_1',\n",
       "       'essay_3_score_2', 'essay_3_score_3', 'max_score', 'distance',\n",
       "       'essay_average', 'essay_percentage'],\n",
       "      dtype='object')"
      ]
     },
     "execution_count": 123,
     "metadata": {},
     "output_type": "execute_result"
    }
   ],
   "source": [
    "essay_df.columns"
   ]
  },
  {
   "cell_type": "markdown",
   "metadata": {},
   "source": [
    "#### Merge the merged dataset with essay score dataset to get the correct averages"
   ]
  },
  {
   "cell_type": "code",
   "execution_count": 67,
   "metadata": {},
   "outputs": [],
   "source": [
    "merged_total_df = pd.merge(merged_df, essay_df[['course','fake_email','essay_percentage']], how='left', left_on=['course_name','fake_email_address'], right_on=['course','fake_email'])"
   ]
  },
  {
   "cell_type": "code",
   "execution_count": 22,
   "metadata": {},
   "outputs": [
    {
     "data": {
      "text/plain": [
       "Index(['canvas_user_id', 'course_id', 'canvas_course_name', 'day_of_start_at',\n",
       "       'fake_applicant_id', 'fake_first_name-given_name_x', 'title',\n",
       "       'title_clean', 'record_type', 'unit', 'include?', 'day_of_submitted_at',\n",
       "       'day_of_due_at', 'grade', 'excused', 'submitted?', 'attendance',\n",
       "       'section_canvas_course_id', 'course_name', 'section_name',\n",
       "       'day_of_course_start_date_x', 'enrollment_status_x', 'date_difference',\n",
       "       'completed?_x', 'day_of_course_start_date_y',\n",
       "       'day_of_applied_to_course_date', 'fake_first_name-given_name_y',\n",
       "       'fake_last_name-surname_', 'fake_email_address', 'age_birthday_masked',\n",
       "       'race', 'gender', 'income', 'education', 'major', 'city', 'state',\n",
       "       'zip_code', 'promise_zone?', 'maxlearner_test_score',\n",
       "       'points_possible_on_learner_test', 'primary_interest_in_course',\n",
       "       'hours_coded', 'how_many_hours_a_week_can_you_commit_to_class',\n",
       "       'enrollment_status_y', 'promise_zone_indicator', 'hacker_rank_score',\n",
       "       'essay_1_score_1', 'essay_1_score_2', 'essay_1_score_3',\n",
       "       'essay_2_score_1', 'essay_2_score_2', 'essay_2_score_3',\n",
       "       'essay_3_score_1', 'essay_3_score_2', 'essay_3_score_3',\n",
       "       'max_essay_score', 'average_essay_score', 'completed?_y', 'course',\n",
       "       'fake_email', 'essay_percentage'],\n",
       "      dtype='object')"
      ]
     },
     "execution_count": 22,
     "metadata": {},
     "output_type": "execute_result"
    }
   ],
   "source": [
    "merged_total_df.columns"
   ]
  },
  {
   "cell_type": "code",
   "execution_count": 68,
   "metadata": {},
   "outputs": [],
   "source": [
    "#merged_total_df['completed?_y'].value_counts()\n",
    "merged_total_df['maxlearner_test_score_percent'] = merged_total_df['maxlearner_test_score']/merged_total_df['points_possible_on_learner_test']\n",
    "merged_total_df.rename(columns={'completed?_y':'completed', 'enrollment_status_y':'enrollment_status'}, inplace=True)"
   ]
  },
  {
   "cell_type": "code",
   "execution_count": 69,
   "metadata": {},
   "outputs": [],
   "source": [
    "merged_total_df = merged_total_df.dropna(subset=['maxlearner_test_score'])\n",
    "merged_total_df = merged_total_df.dropna(subset=['record_type'])\n",
    "merged_total_df = merged_total_df.dropna(subset=['education'])"
   ]
  },
  {
   "cell_type": "code",
   "execution_count": 70,
   "metadata": {},
   "outputs": [],
   "source": [
    "drop_cols = ['day_of_start_at','title','day_of_submitted_at','day_of_due_at','grade','day_of_course_start_date_x','date_difference','day_of_course_start_date_y','day_of_applied_to_course_date','fake_first_name-given_name_y','fake_last_name-surname_','zip_code','essay_1_score_1','essay_1_score_2','essay_1_score_3','essay_2_score_1','essay_2_score_2','essay_2_score_3','essay_3_score_1','essay_3_score_2','essay_3_score_3','max_essay_score','fake_email','average_essay_score','course']\n",
    "drop_cols2 = ['attendance','excused','submitted?','major','essay_percentage']\n",
    "drop_cols3 = ['canvas_user_id','course_id','fake_first_name-given_name_x','section_canvas_course_id']\n",
    "drop_cols4 = ['maxlearner_test_score','points_possible_on_learner_test']\n",
    "drop_cols5 = ['promise_zone?','completed?_x','enrollment_status_x']\n",
    "drop_cols6= ['course_name','section_name','fake_applicant_id','fake_email_address']"
   ]
  },
  {
   "cell_type": "code",
   "execution_count": 71,
   "metadata": {},
   "outputs": [],
   "source": [
    "merged_total_df = merged_total_df.drop(drop_cols, axis=1)\n",
    "merged_total_df = merged_total_df.drop(drop_cols2, axis=1)\n",
    "merged_total_df = merged_total_df.drop(drop_cols3, axis=1)\n",
    "merged_total_df = merged_total_df.drop(drop_cols4, axis=1)\n",
    "merged_total_df = merged_total_df.drop(drop_cols5, axis=1)\n",
    "###merged_total_df = merged_total_df.drop(drop_cols6, axis=1)"
   ]
  },
  {
   "cell_type": "code",
   "execution_count": 72,
   "metadata": {},
   "outputs": [
    {
     "name": "stdout",
     "output_type": "stream",
     "text": [
      "<class 'pandas.core.frame.DataFrame'>\n",
      "Int64Index: 145362 entries, 0 to 146698\n",
      "Data columns (total 24 columns):\n",
      "canvas_course_name                               145362 non-null category\n",
      "fake_applicant_id                                145362 non-null int64\n",
      "title_clean                                      145362 non-null object\n",
      "record_type                                      145362 non-null category\n",
      "unit                                             145362 non-null category\n",
      "include?                                         145362 non-null object\n",
      "course_name                                      145362 non-null object\n",
      "section_name                                     145362 non-null object\n",
      "fake_email_address                               145362 non-null object\n",
      "age_birthday_masked                              145362 non-null float64\n",
      "race                                             145362 non-null object\n",
      "gender                                           145362 non-null object\n",
      "income                                           145362 non-null object\n",
      "education                                        145362 non-null object\n",
      "city                                             145362 non-null object\n",
      "state                                            145362 non-null object\n",
      "primary_interest_in_course                       145362 non-null object\n",
      "hours_coded                                      145362 non-null object\n",
      "how_many_hours_a_week_can_you_commit_to_class    145362 non-null object\n",
      "enrollment_status                                145362 non-null object\n",
      "promise_zone_indicator                           145362 non-null object\n",
      "hacker_rank_score                                145362 non-null float64\n",
      "completed                                        145362 non-null float64\n",
      "maxlearner_test_score_percent                    145362 non-null float64\n",
      "dtypes: category(3), float64(4), int64(1), object(16)\n",
      "memory usage: 24.8+ MB\n"
     ]
    }
   ],
   "source": [
    "merged_total_df.info()"
   ]
  },
  {
   "cell_type": "code",
   "execution_count": 62,
   "metadata": {},
   "outputs": [],
   "source": [
    "##transform sentences to some Codes\n",
    "code = {'Interested in seeking an apprenticeship/job in tech':'Apprentice_job','Interested in pursuing further education':'education' ,'General interest in coding':'coding','Professional development for my current job':'development'}\n",
    "promise_zone_code = {'No':0, 'Promise Zone':1}\n",
    "include_code = {'Yes':1, 'No':0}"
   ]
  },
  {
   "cell_type": "code",
   "execution_count": 73,
   "metadata": {},
   "outputs": [],
   "source": [
    "merged_total_df['primary_interest_in_course'] = merged_total_df['primary_interest_in_course'].map(code)\n",
    "merged_total_df['promise_zone_indicator'] = merged_total_df['promise_zone_indicator'].map(promise_zone_code)\n",
    "merged_total_df['include?'] = merged_total_df['include?'].map(include_code)"
   ]
  },
  {
   "cell_type": "code",
   "execution_count": 390,
   "metadata": {},
   "outputs": [
    {
     "data": {
      "text/plain": [
       "completed    83128\n",
       "dropped      31055\n",
       "enrolled     16479\n",
       "withdrawn    14700\n",
       "Name: enrollment_status, dtype: int64"
      ]
     },
     "execution_count": 390,
     "metadata": {},
     "output_type": "execute_result"
    }
   ],
   "source": [
    "merged_total_df['enrollment_status'].value_counts()"
   ]
  },
  {
   "cell_type": "code",
   "execution_count": 64,
   "metadata": {},
   "outputs": [
    {
     "data": {
      "text/plain": [
       "(145362, 24)"
      ]
     },
     "execution_count": 64,
     "metadata": {},
     "output_type": "execute_result"
    }
   ],
   "source": [
    "merged_total_df.shape"
   ]
  },
  {
   "cell_type": "code",
   "execution_count": 39,
   "metadata": {},
   "outputs": [
    {
     "name": "stdout",
     "output_type": "stream",
     "text": [
      "2019-05-26 12:33:43.295273\n"
     ]
    }
   ],
   "source": [
    "import datetime\n",
    "print(datetime.datetime.now())"
   ]
  },
  {
   "cell_type": "code",
   "execution_count": 74,
   "metadata": {},
   "outputs": [
    {
     "name": "stdout",
     "output_type": "stream",
     "text": [
      "2019-05-26 14:04:20.787933\n",
      "2019-05-26 14:04:24.156546\n"
     ]
    }
   ],
   "source": [
    "print(datetime.datetime.now())\n",
    "#merged_total_df.iloc[-round(merged_total_df.shape[0]*.3):].to_excel('ProcessedFile_30p.xlsx',header=True,index=False)\n",
    "merged_total_df = merged_total_df.drop(drop_cols6, axis=1)\n",
    "merged_total_interim_df = merged_total_df.drop('completed', axis=1)  ###Need completed for model building\n",
    "merged_total_interim_df.to_csv('ProcessedTotalFile_Interim.csv',header=True,index=False)\n",
    "print(datetime.datetime.now())"
   ]
  },
  {
   "cell_type": "code",
   "execution_count": 391,
   "metadata": {},
   "outputs": [
    {
     "data": {
      "text/html": [
       "<div>\n",
       "<style scoped>\n",
       "    .dataframe tbody tr th:only-of-type {\n",
       "        vertical-align: middle;\n",
       "    }\n",
       "\n",
       "    .dataframe tbody tr th {\n",
       "        vertical-align: top;\n",
       "    }\n",
       "\n",
       "    .dataframe thead th {\n",
       "        text-align: right;\n",
       "    }\n",
       "</style>\n",
       "<table border=\"1\" class=\"dataframe\">\n",
       "  <thead>\n",
       "    <tr style=\"text-align: right;\">\n",
       "      <th></th>\n",
       "      <th>canvas_course_name</th>\n",
       "      <th>title_clean</th>\n",
       "      <th>record_type</th>\n",
       "      <th>unit</th>\n",
       "      <th>include?</th>\n",
       "      <th>age_birthday_masked</th>\n",
       "      <th>race</th>\n",
       "      <th>gender</th>\n",
       "      <th>income</th>\n",
       "      <th>education</th>\n",
       "      <th>city</th>\n",
       "      <th>state</th>\n",
       "      <th>primary_interest_in_course</th>\n",
       "      <th>hours_coded</th>\n",
       "      <th>how_many_hours_a_week_can_you_commit_to_class</th>\n",
       "      <th>enrollment_status</th>\n",
       "      <th>promise_zone_indicator</th>\n",
       "      <th>hacker_rank_score</th>\n",
       "      <th>completed</th>\n",
       "      <th>maxlearner_test_score_percent</th>\n",
       "    </tr>\n",
       "  </thead>\n",
       "  <tbody>\n",
       "    <tr>\n",
       "      <th>0</th>\n",
       "      <td>Org101 St. Louis - South County (Summer 2017)</td>\n",
       "      <td>Blogz</td>\n",
       "      <td>Large Assignment</td>\n",
       "      <td>Unit 2</td>\n",
       "      <td>1</td>\n",
       "      <td>45.0</td>\n",
       "      <td>Caucasian or White</td>\n",
       "      <td>Male</td>\n",
       "      <td>$40,000 - $50,000</td>\n",
       "      <td>Master's</td>\n",
       "      <td>Eureka</td>\n",
       "      <td>MO</td>\n",
       "      <td>Apprentice_job</td>\n",
       "      <td>6-50</td>\n",
       "      <td>21-40</td>\n",
       "      <td>withdrawn</td>\n",
       "      <td>0</td>\n",
       "      <td>9.333333</td>\n",
       "      <td>0.0</td>\n",
       "      <td>0.933333</td>\n",
       "    </tr>\n",
       "    <tr>\n",
       "      <th>1</th>\n",
       "      <td>Org101 St. Louis - South County (Summer 2017)</td>\n",
       "      <td>Build-a-Blog</td>\n",
       "      <td>Large Assignment</td>\n",
       "      <td>Unit 2</td>\n",
       "      <td>1</td>\n",
       "      <td>45.0</td>\n",
       "      <td>Caucasian or White</td>\n",
       "      <td>Male</td>\n",
       "      <td>$40,000 - $50,000</td>\n",
       "      <td>Master's</td>\n",
       "      <td>Eureka</td>\n",
       "      <td>MO</td>\n",
       "      <td>Apprentice_job</td>\n",
       "      <td>6-50</td>\n",
       "      <td>21-40</td>\n",
       "      <td>withdrawn</td>\n",
       "      <td>0</td>\n",
       "      <td>9.333333</td>\n",
       "      <td>0.0</td>\n",
       "      <td>0.933333</td>\n",
       "    </tr>\n",
       "    <tr>\n",
       "      <th>2</th>\n",
       "      <td>Org101 St. Louis - South County (Summer 2017)</td>\n",
       "      <td>Chapter 10 Assignment</td>\n",
       "      <td>Small Assignment</td>\n",
       "      <td>Unit 1</td>\n",
       "      <td>1</td>\n",
       "      <td>45.0</td>\n",
       "      <td>Caucasian or White</td>\n",
       "      <td>Male</td>\n",
       "      <td>$40,000 - $50,000</td>\n",
       "      <td>Master's</td>\n",
       "      <td>Eureka</td>\n",
       "      <td>MO</td>\n",
       "      <td>Apprentice_job</td>\n",
       "      <td>6-50</td>\n",
       "      <td>21-40</td>\n",
       "      <td>withdrawn</td>\n",
       "      <td>0</td>\n",
       "      <td>9.333333</td>\n",
       "      <td>0.0</td>\n",
       "      <td>0.933333</td>\n",
       "    </tr>\n",
       "    <tr>\n",
       "      <th>3</th>\n",
       "      <td>Org101 St. Louis - South County (Summer 2017)</td>\n",
       "      <td>Chapter 11 Assignment</td>\n",
       "      <td>Small Assignment</td>\n",
       "      <td>Unit 1</td>\n",
       "      <td>1</td>\n",
       "      <td>45.0</td>\n",
       "      <td>Caucasian or White</td>\n",
       "      <td>Male</td>\n",
       "      <td>$40,000 - $50,000</td>\n",
       "      <td>Master's</td>\n",
       "      <td>Eureka</td>\n",
       "      <td>MO</td>\n",
       "      <td>Apprentice_job</td>\n",
       "      <td>6-50</td>\n",
       "      <td>21-40</td>\n",
       "      <td>withdrawn</td>\n",
       "      <td>0</td>\n",
       "      <td>9.333333</td>\n",
       "      <td>0.0</td>\n",
       "      <td>0.933333</td>\n",
       "    </tr>\n",
       "    <tr>\n",
       "      <th>4</th>\n",
       "      <td>Org101 St. Louis - South County (Summer 2017)</td>\n",
       "      <td>Chapter 12 Assignment</td>\n",
       "      <td>Small Assignment</td>\n",
       "      <td>Unit 1</td>\n",
       "      <td>1</td>\n",
       "      <td>45.0</td>\n",
       "      <td>Caucasian or White</td>\n",
       "      <td>Male</td>\n",
       "      <td>$40,000 - $50,000</td>\n",
       "      <td>Master's</td>\n",
       "      <td>Eureka</td>\n",
       "      <td>MO</td>\n",
       "      <td>Apprentice_job</td>\n",
       "      <td>6-50</td>\n",
       "      <td>21-40</td>\n",
       "      <td>withdrawn</td>\n",
       "      <td>0</td>\n",
       "      <td>9.333333</td>\n",
       "      <td>0.0</td>\n",
       "      <td>0.933333</td>\n",
       "    </tr>\n",
       "  </tbody>\n",
       "</table>\n",
       "</div>"
      ],
      "text/plain": [
       "                              canvas_course_name            title_clean  \\\n",
       "0  Org101 St. Louis - South County (Summer 2017)                  Blogz   \n",
       "1  Org101 St. Louis - South County (Summer 2017)           Build-a-Blog   \n",
       "2  Org101 St. Louis - South County (Summer 2017)  Chapter 10 Assignment   \n",
       "3  Org101 St. Louis - South County (Summer 2017)  Chapter 11 Assignment   \n",
       "4  Org101 St. Louis - South County (Summer 2017)  Chapter 12 Assignment   \n",
       "\n",
       "        record_type    unit  include?  age_birthday_masked  \\\n",
       "0  Large Assignment  Unit 2         1                 45.0   \n",
       "1  Large Assignment  Unit 2         1                 45.0   \n",
       "2  Small Assignment  Unit 1         1                 45.0   \n",
       "3  Small Assignment  Unit 1         1                 45.0   \n",
       "4  Small Assignment  Unit 1         1                 45.0   \n",
       "\n",
       "                 race gender             income education    city state  \\\n",
       "0  Caucasian or White   Male  $40,000 - $50,000  Master's  Eureka    MO   \n",
       "1  Caucasian or White   Male  $40,000 - $50,000  Master's  Eureka    MO   \n",
       "2  Caucasian or White   Male  $40,000 - $50,000  Master's  Eureka    MO   \n",
       "3  Caucasian or White   Male  $40,000 - $50,000  Master's  Eureka    MO   \n",
       "4  Caucasian or White   Male  $40,000 - $50,000  Master's  Eureka    MO   \n",
       "\n",
       "  primary_interest_in_course hours_coded  \\\n",
       "0             Apprentice_job        6-50   \n",
       "1             Apprentice_job        6-50   \n",
       "2             Apprentice_job        6-50   \n",
       "3             Apprentice_job        6-50   \n",
       "4             Apprentice_job        6-50   \n",
       "\n",
       "  how_many_hours_a_week_can_you_commit_to_class enrollment_status  \\\n",
       "0                                         21-40         withdrawn   \n",
       "1                                         21-40         withdrawn   \n",
       "2                                         21-40         withdrawn   \n",
       "3                                         21-40         withdrawn   \n",
       "4                                         21-40         withdrawn   \n",
       "\n",
       "   promise_zone_indicator  hacker_rank_score  completed  \\\n",
       "0                       0           9.333333        0.0   \n",
       "1                       0           9.333333        0.0   \n",
       "2                       0           9.333333        0.0   \n",
       "3                       0           9.333333        0.0   \n",
       "4                       0           9.333333        0.0   \n",
       "\n",
       "   maxlearner_test_score_percent  \n",
       "0                       0.933333  \n",
       "1                       0.933333  \n",
       "2                       0.933333  \n",
       "3                       0.933333  \n",
       "4                       0.933333  "
      ]
     },
     "execution_count": 391,
     "metadata": {},
     "output_type": "execute_result"
    }
   ],
   "source": [
    "merged_total_df.head()"
   ]
  },
  {
   "cell_type": "code",
   "execution_count": 91,
   "metadata": {},
   "outputs": [
    {
     "name": "stdout",
     "output_type": "stream",
     "text": [
      "14\n",
      "14\n"
     ]
    }
   ],
   "source": [
    "one_hot_cols = ['canvas_course_name','title_clean','record_type', 'unit','enrollment_status','race','gender','income','education', 'city', 'state','primary_interest_in_course', 'hours_coded','how_many_hours_a_week_can_you_commit_to_class']\n",
    "one_hot_cols2 =['canvas_course_name','title_clean','record_type', 'unit','enrollment_status','race','gender','income','education', 'city', 'state','primary_interest_in_course', 'hours_coded','how_many_hours_a_week_can_you_commit_to_class']\n",
    "print(len(one_hot_cols))\n",
    "print(len(one_hot_cols2))"
   ]
  },
  {
   "cell_type": "code",
   "execution_count": 76,
   "metadata": {},
   "outputs": [
    {
     "name": "stdout",
     "output_type": "stream",
     "text": [
      "2019-05-26 14:04:34.625003\n",
      "2019-05-26 14:04:35.612183\n"
     ]
    }
   ],
   "source": [
    "print(datetime.datetime.now())\n",
    "\n",
    "merged_total_interim_load_df = pd.read_csv(\"ProcessedTotalFile_Interim.csv\", header=0)\n",
    "print(datetime.datetime.now())"
   ]
  },
  {
   "cell_type": "code",
   "execution_count": 78,
   "metadata": {},
   "outputs": [
    {
     "data": {
      "text/plain": [
       "Index(['canvas_course_name', 'title_clean', 'record_type', 'unit', 'include?',\n",
       "       'age_birthday_masked', 'race', 'gender', 'income', 'education', 'city',\n",
       "       'state', 'primary_interest_in_course', 'hours_coded',\n",
       "       'how_many_hours_a_week_can_you_commit_to_class', 'enrollment_status',\n",
       "       'promise_zone_indicator', 'hacker_rank_score', 'completed',\n",
       "       'maxlearner_test_score_percent'],\n",
       "      dtype='object')"
      ]
     },
     "execution_count": 78,
     "metadata": {},
     "output_type": "execute_result"
    }
   ],
   "source": [
    "merged_total_df.columns"
   ]
  },
  {
   "cell_type": "code",
   "execution_count": 92,
   "metadata": {},
   "outputs": [],
   "source": [
    "##Continue with merged_total_df for model building...as this has the completed\n",
    "merged_total_df_dummies = pd.get_dummies( merged_total_df, columns = one_hot_cols )"
   ]
  },
  {
   "cell_type": "code",
   "execution_count": 93,
   "metadata": {},
   "outputs": [
    {
     "data": {
      "text/plain": [
       "(145362, 545)"
      ]
     },
     "execution_count": 93,
     "metadata": {},
     "output_type": "execute_result"
    }
   ],
   "source": [
    "merged_total_df_dummies.shape"
   ]
  },
  {
   "cell_type": "code",
   "execution_count": 397,
   "metadata": {},
   "outputs": [
    {
     "data": {
      "text/html": [
       "<div>\n",
       "<style scoped>\n",
       "    .dataframe tbody tr th:only-of-type {\n",
       "        vertical-align: middle;\n",
       "    }\n",
       "\n",
       "    .dataframe tbody tr th {\n",
       "        vertical-align: top;\n",
       "    }\n",
       "\n",
       "    .dataframe thead th {\n",
       "        text-align: right;\n",
       "    }\n",
       "</style>\n",
       "<table border=\"1\" class=\"dataframe\">\n",
       "  <thead>\n",
       "    <tr style=\"text-align: right;\">\n",
       "      <th></th>\n",
       "      <th>age_birthday_masked</th>\n",
       "      <th>promise_zone_indicator</th>\n",
       "      <th>hacker_rank_score</th>\n",
       "      <th>completed</th>\n",
       "      <th>maxlearner_test_score_percent</th>\n",
       "      <th>canvas_course_name_C#/.NET SFL</th>\n",
       "      <th>canvas_course_name_C#/.NET St. Louis (Summer 2018)</th>\n",
       "      <th>canvas_course_name_C#/.NET St. Louis (Winter 2018)</th>\n",
       "      <th>canvas_course_name_C#/.NET St. Louis - Mentor Center (Winter 2017)</th>\n",
       "      <th>canvas_course_name_C#/.NET St. Louis - North County (Summer 2017)</th>\n",
       "      <th>...</th>\n",
       "      <th>primary_interest_in_course_education</th>\n",
       "      <th>hours_coded_0-5</th>\n",
       "      <th>hours_coded_250+</th>\n",
       "      <th>hours_coded_51-250</th>\n",
       "      <th>hours_coded_6-50</th>\n",
       "      <th>how_many_hours_a_week_can_you_commit_to_class_0-5</th>\n",
       "      <th>how_many_hours_a_week_can_you_commit_to_class_11-20</th>\n",
       "      <th>how_many_hours_a_week_can_you_commit_to_class_21-40</th>\n",
       "      <th>how_many_hours_a_week_can_you_commit_to_class_40+</th>\n",
       "      <th>how_many_hours_a_week_can_you_commit_to_class_6-10</th>\n",
       "    </tr>\n",
       "  </thead>\n",
       "  <tbody>\n",
       "    <tr>\n",
       "      <th>0</th>\n",
       "      <td>45.0</td>\n",
       "      <td>0</td>\n",
       "      <td>9.333333</td>\n",
       "      <td>0.0</td>\n",
       "      <td>0.933333</td>\n",
       "      <td>0</td>\n",
       "      <td>0</td>\n",
       "      <td>0</td>\n",
       "      <td>0</td>\n",
       "      <td>0</td>\n",
       "      <td>...</td>\n",
       "      <td>0</td>\n",
       "      <td>0</td>\n",
       "      <td>0</td>\n",
       "      <td>0</td>\n",
       "      <td>1</td>\n",
       "      <td>0</td>\n",
       "      <td>0</td>\n",
       "      <td>1</td>\n",
       "      <td>0</td>\n",
       "      <td>0</td>\n",
       "    </tr>\n",
       "    <tr>\n",
       "      <th>1</th>\n",
       "      <td>45.0</td>\n",
       "      <td>0</td>\n",
       "      <td>9.333333</td>\n",
       "      <td>0.0</td>\n",
       "      <td>0.933333</td>\n",
       "      <td>0</td>\n",
       "      <td>0</td>\n",
       "      <td>0</td>\n",
       "      <td>0</td>\n",
       "      <td>0</td>\n",
       "      <td>...</td>\n",
       "      <td>0</td>\n",
       "      <td>0</td>\n",
       "      <td>0</td>\n",
       "      <td>0</td>\n",
       "      <td>1</td>\n",
       "      <td>0</td>\n",
       "      <td>0</td>\n",
       "      <td>1</td>\n",
       "      <td>0</td>\n",
       "      <td>0</td>\n",
       "    </tr>\n",
       "    <tr>\n",
       "      <th>2</th>\n",
       "      <td>45.0</td>\n",
       "      <td>0</td>\n",
       "      <td>9.333333</td>\n",
       "      <td>0.0</td>\n",
       "      <td>0.933333</td>\n",
       "      <td>0</td>\n",
       "      <td>0</td>\n",
       "      <td>0</td>\n",
       "      <td>0</td>\n",
       "      <td>0</td>\n",
       "      <td>...</td>\n",
       "      <td>0</td>\n",
       "      <td>0</td>\n",
       "      <td>0</td>\n",
       "      <td>0</td>\n",
       "      <td>1</td>\n",
       "      <td>0</td>\n",
       "      <td>0</td>\n",
       "      <td>1</td>\n",
       "      <td>0</td>\n",
       "      <td>0</td>\n",
       "    </tr>\n",
       "    <tr>\n",
       "      <th>3</th>\n",
       "      <td>45.0</td>\n",
       "      <td>0</td>\n",
       "      <td>9.333333</td>\n",
       "      <td>0.0</td>\n",
       "      <td>0.933333</td>\n",
       "      <td>0</td>\n",
       "      <td>0</td>\n",
       "      <td>0</td>\n",
       "      <td>0</td>\n",
       "      <td>0</td>\n",
       "      <td>...</td>\n",
       "      <td>0</td>\n",
       "      <td>0</td>\n",
       "      <td>0</td>\n",
       "      <td>0</td>\n",
       "      <td>1</td>\n",
       "      <td>0</td>\n",
       "      <td>0</td>\n",
       "      <td>1</td>\n",
       "      <td>0</td>\n",
       "      <td>0</td>\n",
       "    </tr>\n",
       "    <tr>\n",
       "      <th>4</th>\n",
       "      <td>45.0</td>\n",
       "      <td>0</td>\n",
       "      <td>9.333333</td>\n",
       "      <td>0.0</td>\n",
       "      <td>0.933333</td>\n",
       "      <td>0</td>\n",
       "      <td>0</td>\n",
       "      <td>0</td>\n",
       "      <td>0</td>\n",
       "      <td>0</td>\n",
       "      <td>...</td>\n",
       "      <td>0</td>\n",
       "      <td>0</td>\n",
       "      <td>0</td>\n",
       "      <td>0</td>\n",
       "      <td>1</td>\n",
       "      <td>0</td>\n",
       "      <td>0</td>\n",
       "      <td>1</td>\n",
       "      <td>0</td>\n",
       "      <td>0</td>\n",
       "    </tr>\n",
       "  </tbody>\n",
       "</table>\n",
       "<p>5 rows × 546 columns</p>\n",
       "</div>"
      ],
      "text/plain": [
       "   age_birthday_masked  promise_zone_indicator  hacker_rank_score  completed  \\\n",
       "0                 45.0                       0           9.333333        0.0   \n",
       "1                 45.0                       0           9.333333        0.0   \n",
       "2                 45.0                       0           9.333333        0.0   \n",
       "3                 45.0                       0           9.333333        0.0   \n",
       "4                 45.0                       0           9.333333        0.0   \n",
       "\n",
       "   maxlearner_test_score_percent  canvas_course_name_C#/.NET SFL  \\\n",
       "0                       0.933333                               0   \n",
       "1                       0.933333                               0   \n",
       "2                       0.933333                               0   \n",
       "3                       0.933333                               0   \n",
       "4                       0.933333                               0   \n",
       "\n",
       "   canvas_course_name_C#/.NET St. Louis (Summer 2018)  \\\n",
       "0                                                  0    \n",
       "1                                                  0    \n",
       "2                                                  0    \n",
       "3                                                  0    \n",
       "4                                                  0    \n",
       "\n",
       "   canvas_course_name_C#/.NET St. Louis (Winter 2018)  \\\n",
       "0                                                  0    \n",
       "1                                                  0    \n",
       "2                                                  0    \n",
       "3                                                  0    \n",
       "4                                                  0    \n",
       "\n",
       "   canvas_course_name_C#/.NET St. Louis - Mentor Center (Winter 2017)  \\\n",
       "0                                                  0                    \n",
       "1                                                  0                    \n",
       "2                                                  0                    \n",
       "3                                                  0                    \n",
       "4                                                  0                    \n",
       "\n",
       "   canvas_course_name_C#/.NET St. Louis - North County (Summer 2017)  ...  \\\n",
       "0                                                  0                  ...   \n",
       "1                                                  0                  ...   \n",
       "2                                                  0                  ...   \n",
       "3                                                  0                  ...   \n",
       "4                                                  0                  ...   \n",
       "\n",
       "   primary_interest_in_course_education  hours_coded_0-5  hours_coded_250+  \\\n",
       "0                                     0                0                 0   \n",
       "1                                     0                0                 0   \n",
       "2                                     0                0                 0   \n",
       "3                                     0                0                 0   \n",
       "4                                     0                0                 0   \n",
       "\n",
       "   hours_coded_51-250  hours_coded_6-50  \\\n",
       "0                   0                 1   \n",
       "1                   0                 1   \n",
       "2                   0                 1   \n",
       "3                   0                 1   \n",
       "4                   0                 1   \n",
       "\n",
       "   how_many_hours_a_week_can_you_commit_to_class_0-5  \\\n",
       "0                                                  0   \n",
       "1                                                  0   \n",
       "2                                                  0   \n",
       "3                                                  0   \n",
       "4                                                  0   \n",
       "\n",
       "   how_many_hours_a_week_can_you_commit_to_class_11-20  \\\n",
       "0                                                  0     \n",
       "1                                                  0     \n",
       "2                                                  0     \n",
       "3                                                  0     \n",
       "4                                                  0     \n",
       "\n",
       "   how_many_hours_a_week_can_you_commit_to_class_21-40  \\\n",
       "0                                                  1     \n",
       "1                                                  1     \n",
       "2                                                  1     \n",
       "3                                                  1     \n",
       "4                                                  1     \n",
       "\n",
       "   how_many_hours_a_week_can_you_commit_to_class_40+  \\\n",
       "0                                                  0   \n",
       "1                                                  0   \n",
       "2                                                  0   \n",
       "3                                                  0   \n",
       "4                                                  0   \n",
       "\n",
       "   how_many_hours_a_week_can_you_commit_to_class_6-10  \n",
       "0                                                  0   \n",
       "1                                                  0   \n",
       "2                                                  0   \n",
       "3                                                  0   \n",
       "4                                                  0   \n",
       "\n",
       "[5 rows x 546 columns]"
      ]
     },
     "execution_count": 397,
     "metadata": {},
     "output_type": "execute_result"
    }
   ],
   "source": [
    "merged_total_df_dummies.head()"
   ]
  },
  {
   "cell_type": "code",
   "execution_count": 94,
   "metadata": {},
   "outputs": [],
   "source": [
    "###Split into X and Y\n",
    "Y = merged_total_df_dummies['completed'].values\n",
    "merged_total_df_dummies = merged_total_df_dummies.drop('completed', axis = 1)\n",
    "X = merged_total_df_dummies.values"
   ]
  },
  {
   "cell_type": "code",
   "execution_count": 95,
   "metadata": {},
   "outputs": [
    {
     "data": {
      "text/plain": [
       "(145362, 544)"
      ]
     },
     "execution_count": 95,
     "metadata": {},
     "output_type": "execute_result"
    }
   ],
   "source": [
    "X.shape"
   ]
  },
  {
   "cell_type": "code",
   "execution_count": 399,
   "metadata": {},
   "outputs": [
    {
     "data": {
      "text/plain": [
       "Index(['age_birthday_masked', 'promise_zone_indicator', 'hacker_rank_score',\n",
       "       'maxlearner_test_score_percent', 'canvas_course_name_C#/.NET SFL',\n",
       "       'canvas_course_name_C#/.NET St. Louis (Summer 2018)',\n",
       "       'canvas_course_name_C#/.NET St. Louis (Winter 2018)',\n",
       "       'canvas_course_name_C#/.NET St. Louis - Mentor Center (Winter 2017)',\n",
       "       'canvas_course_name_C#/.NET St. Louis - North County (Summer 2017)',\n",
       "       'canvas_course_name_C#/.NET Tampa Bay (Fall 2017)',\n",
       "       ...\n",
       "       'primary_interest_in_course_education', 'hours_coded_0-5',\n",
       "       'hours_coded_250+', 'hours_coded_51-250', 'hours_coded_6-50',\n",
       "       'how_many_hours_a_week_can_you_commit_to_class_0-5',\n",
       "       'how_many_hours_a_week_can_you_commit_to_class_11-20',\n",
       "       'how_many_hours_a_week_can_you_commit_to_class_21-40',\n",
       "       'how_many_hours_a_week_can_you_commit_to_class_40+',\n",
       "       'how_many_hours_a_week_can_you_commit_to_class_6-10'],\n",
       "      dtype='object', length=545)"
      ]
     },
     "execution_count": 399,
     "metadata": {},
     "output_type": "execute_result"
    }
   ],
   "source": [
    "merged_total_df_dummies.columns"
   ]
  },
  {
   "cell_type": "code",
   "execution_count": 96,
   "metadata": {},
   "outputs": [],
   "source": [
    "X_train, X_test, y_train, y_test = train_test_split(X, Y, test_size=0.3)"
   ]
  },
  {
   "cell_type": "code",
   "execution_count": 97,
   "metadata": {},
   "outputs": [],
   "source": [
    "clf=RandomForestClassifier(n_estimators=100)"
   ]
  },
  {
   "cell_type": "code",
   "execution_count": 98,
   "metadata": {},
   "outputs": [],
   "source": [
    "clf.fit(X_train,y_train)\n",
    "y_pred=clf.predict(X_test)"
   ]
  },
  {
   "cell_type": "code",
   "execution_count": 99,
   "metadata": {},
   "outputs": [
    {
     "name": "stdout",
     "output_type": "stream",
     "text": [
      "Accuracy: 1.0\n"
     ]
    }
   ],
   "source": [
    "print(\"Accuracy:\",metrics.accuracy_score(y_test, y_pred))"
   ]
  },
  {
   "cell_type": "code",
   "execution_count": 102,
   "metadata": {},
   "outputs": [],
   "source": [
    "##Save mode las pickle file\n",
    "with open('RFModel_Hackathon2'+'.pickle', 'wb') as handle:\n",
    "        pickle.dump(clf, handle, protocol=pickle.HIGHEST_PROTOCOL)"
   ]
  },
  {
   "cell_type": "code",
   "execution_count": 86,
   "metadata": {},
   "outputs": [
    {
     "data": {
      "text/plain": [
       "(array([0., 1.]), array([18737, 24872], dtype=int64))"
      ]
     },
     "execution_count": 86,
     "metadata": {},
     "output_type": "execute_result"
    }
   ],
   "source": [
    "np.unique(y_test,return_counts=True)"
   ]
  },
  {
   "cell_type": "code",
   "execution_count": 120,
   "metadata": {},
   "outputs": [
    {
     "data": {
      "text/plain": [
       "enrollment_status_completed                  0.463837\n",
       "enrollment_status_dropped                    0.146846\n",
       "enrollment_status_enrolled                   0.086732\n",
       "enrollment_status_withdrawn                  0.066291\n",
       "age_birthday_masked                          0.016904\n",
       "unit_Unit 3                                  0.014153\n",
       "maxlearner_test_score_percent                0.011071\n",
       "hacker_rank_score                            0.011059\n",
       "hours_coded_0-5                              0.006003\n",
       "primary_interest_in_course_Apprentice_job    0.003671\n",
       "dtype: float64"
      ]
     },
     "execution_count": 120,
     "metadata": {},
     "output_type": "execute_result"
    }
   ],
   "source": [
    "feature_imp = pd.Series(clf.feature_importances_,index=merged_total_df_dummies.columns).sort_values(ascending=False)\n",
    "feature_imp.iloc[:10]"
   ]
  },
  {
   "cell_type": "code",
   "execution_count": 410,
   "metadata": {},
   "outputs": [
    {
     "name": "stderr",
     "output_type": "stream",
     "text": [
      "C:\\Users\\jinu.jayan\\AppData\\Local\\Continuum\\anaconda3\\lib\\site-packages\\sklearn\\linear_model\\logistic.py:433: FutureWarning: Default solver will be changed to 'lbfgs' in 0.22. Specify a solver to silence this warning.\n",
      "  FutureWarning)\n"
     ]
    },
    {
     "name": "stdout",
     "output_type": "stream",
     "text": [
      "1.0\n"
     ]
    }
   ],
   "source": [
    "from sklearn.linear_model import LogisticRegression\n",
    "logreg_red = LogisticRegression()\n",
    "logreg_red.fit(X_train,y_train)\n",
    "y_pred_class = logreg_red.predict(X_test)\n",
    "#probs = logreg_red.predict_proba(X_test_std)\n",
    "print(metrics.accuracy_score(y_test, y_pred_class))"
   ]
  },
  {
   "cell_type": "code",
   "execution_count": 49,
   "metadata": {},
   "outputs": [],
   "source": [
    "with open('input.json') as json_file:  \n",
    "    jsondata = json.load(json_file)"
   ]
  },
  {
   "cell_type": "code",
   "execution_count": 50,
   "metadata": {},
   "outputs": [],
   "source": [
    "infer_df = pd.DataFrame(jsondata['students'], index=list(range(len(jsondata['students']))))"
   ]
  },
  {
   "cell_type": "code",
   "execution_count": 52,
   "metadata": {},
   "outputs": [],
   "source": [
    "output_df = infer_df[['course_name','section_name','fake_applicant_id','fake_email_address']].copy()\n",
    "drop_cols6= ['course_name','section_name','fake_applicant_id','fake_email_address']\n",
    "infer_df = infer_df.drop(drop_cols6, axis=1)"
   ]
  },
  {
   "cell_type": "code",
   "execution_count": 105,
   "metadata": {},
   "outputs": [
    {
     "data": {
      "text/plain": [
       "(2, 4)"
      ]
     },
     "execution_count": 105,
     "metadata": {},
     "output_type": "execute_result"
    }
   ],
   "source": [
    "output_df.shape"
   ]
  },
  {
   "cell_type": "code",
   "execution_count": 103,
   "metadata": {},
   "outputs": [
    {
     "name": "stdout",
     "output_type": "stream",
     "text": [
      "The OHE shape is (145364, 544)\n"
     ]
    }
   ],
   "source": [
    "Interim_load_df = pd.read_csv(\"ProcessedTotalFile_Interim.csv\", header=0)\n",
    "dataset_all = pd.concat(objs=[Interim_load_df, infer_df], axis=0,sort=False)\n",
    "one_hot_cols2 = ['canvas_course_name','title_clean','record_type', 'unit','enrollment_status','race','gender','income','education', 'city', 'state','primary_interest_in_course', 'hours_coded','how_many_hours_a_week_can_you_commit_to_class']\n",
    "dataset_all_dummies = pd.get_dummies( dataset_all, columns = one_hot_cols2 )\n",
    "print(f\"The OHE shape is {dataset_all_dummies.shape}\")"
   ]
  },
  {
   "cell_type": "code",
   "execution_count": 55,
   "metadata": {},
   "outputs": [
    {
     "data": {
      "text/html": [
       "<div>\n",
       "<style scoped>\n",
       "    .dataframe tbody tr th:only-of-type {\n",
       "        vertical-align: middle;\n",
       "    }\n",
       "\n",
       "    .dataframe tbody tr th {\n",
       "        vertical-align: top;\n",
       "    }\n",
       "\n",
       "    .dataframe thead th {\n",
       "        text-align: right;\n",
       "    }\n",
       "</style>\n",
       "<table border=\"1\" class=\"dataframe\">\n",
       "  <thead>\n",
       "    <tr style=\"text-align: right;\">\n",
       "      <th></th>\n",
       "      <th>include?</th>\n",
       "      <th>age_birthday_masked</th>\n",
       "      <th>promise_zone_indicator</th>\n",
       "      <th>hacker_rank_score</th>\n",
       "      <th>completed</th>\n",
       "      <th>maxlearner_test_score_percent</th>\n",
       "      <th>canvas_course_name_C#/.NET SFL</th>\n",
       "      <th>canvas_course_name_C#/.NET St. Louis (Summer 2018)</th>\n",
       "      <th>canvas_course_name_C#/.NET St. Louis (Winter 2018)</th>\n",
       "      <th>canvas_course_name_C#/.NET St. Louis - Mentor Center (Winter 2017)</th>\n",
       "      <th>...</th>\n",
       "      <th>primary_interest_in_course_education</th>\n",
       "      <th>hours_coded_0-5</th>\n",
       "      <th>hours_coded_250+</th>\n",
       "      <th>hours_coded_51-250</th>\n",
       "      <th>hours_coded_6-50</th>\n",
       "      <th>how_many_hours_a_week_can_you_commit_to_class_0-5</th>\n",
       "      <th>how_many_hours_a_week_can_you_commit_to_class_11-20</th>\n",
       "      <th>how_many_hours_a_week_can_you_commit_to_class_21-40</th>\n",
       "      <th>how_many_hours_a_week_can_you_commit_to_class_40+</th>\n",
       "      <th>how_many_hours_a_week_can_you_commit_to_class_6-10</th>\n",
       "    </tr>\n",
       "  </thead>\n",
       "  <tbody>\n",
       "    <tr>\n",
       "      <th>0</th>\n",
       "      <td>0</td>\n",
       "      <td>22</td>\n",
       "      <td>0</td>\n",
       "      <td>6</td>\n",
       "      <td>NaN</td>\n",
       "      <td>0.6</td>\n",
       "      <td>0</td>\n",
       "      <td>0</td>\n",
       "      <td>0</td>\n",
       "      <td>0</td>\n",
       "      <td>...</td>\n",
       "      <td>0</td>\n",
       "      <td>1</td>\n",
       "      <td>0</td>\n",
       "      <td>0</td>\n",
       "      <td>0</td>\n",
       "      <td>1</td>\n",
       "      <td>0</td>\n",
       "      <td>0</td>\n",
       "      <td>0</td>\n",
       "      <td>0</td>\n",
       "    </tr>\n",
       "    <tr>\n",
       "      <th>1</th>\n",
       "      <td>1</td>\n",
       "      <td>22</td>\n",
       "      <td>0</td>\n",
       "      <td>6</td>\n",
       "      <td>NaN</td>\n",
       "      <td>0.6</td>\n",
       "      <td>0</td>\n",
       "      <td>0</td>\n",
       "      <td>0</td>\n",
       "      <td>0</td>\n",
       "      <td>...</td>\n",
       "      <td>0</td>\n",
       "      <td>1</td>\n",
       "      <td>0</td>\n",
       "      <td>0</td>\n",
       "      <td>0</td>\n",
       "      <td>1</td>\n",
       "      <td>0</td>\n",
       "      <td>0</td>\n",
       "      <td>0</td>\n",
       "      <td>0</td>\n",
       "    </tr>\n",
       "  </tbody>\n",
       "</table>\n",
       "<p>2 rows × 545 columns</p>\n",
       "</div>"
      ],
      "text/plain": [
       "  include? age_birthday_masked promise_zone_indicator hacker_rank_score  \\\n",
       "0        0                  22                      0                 6   \n",
       "1        1                  22                      0                 6   \n",
       "\n",
       "   completed maxlearner_test_score_percent  canvas_course_name_C#/.NET SFL  \\\n",
       "0        NaN                           0.6                               0   \n",
       "1        NaN                           0.6                               0   \n",
       "\n",
       "   canvas_course_name_C#/.NET St. Louis (Summer 2018)  \\\n",
       "0                                                  0    \n",
       "1                                                  0    \n",
       "\n",
       "   canvas_course_name_C#/.NET St. Louis (Winter 2018)  \\\n",
       "0                                                  0    \n",
       "1                                                  0    \n",
       "\n",
       "   canvas_course_name_C#/.NET St. Louis - Mentor Center (Winter 2017)  ...  \\\n",
       "0                                                  0                   ...   \n",
       "1                                                  0                   ...   \n",
       "\n",
       "   primary_interest_in_course_education  hours_coded_0-5  hours_coded_250+  \\\n",
       "0                                     0                1                 0   \n",
       "1                                     0                1                 0   \n",
       "\n",
       "   hours_coded_51-250  hours_coded_6-50  \\\n",
       "0                   0                 0   \n",
       "1                   0                 0   \n",
       "\n",
       "   how_many_hours_a_week_can_you_commit_to_class_0-5  \\\n",
       "0                                                  1   \n",
       "1                                                  1   \n",
       "\n",
       "   how_many_hours_a_week_can_you_commit_to_class_11-20  \\\n",
       "0                                                  0     \n",
       "1                                                  0     \n",
       "\n",
       "   how_many_hours_a_week_can_you_commit_to_class_21-40  \\\n",
       "0                                                  0     \n",
       "1                                                  0     \n",
       "\n",
       "   how_many_hours_a_week_can_you_commit_to_class_40+  \\\n",
       "0                                                  0   \n",
       "1                                                  0   \n",
       "\n",
       "   how_many_hours_a_week_can_you_commit_to_class_6-10  \n",
       "0                                                  0   \n",
       "1                                                  0   \n",
       "\n",
       "[2 rows x 545 columns]"
      ]
     },
     "execution_count": 55,
     "metadata": {},
     "output_type": "execute_result"
    }
   ],
   "source": [
    "dataset_all_dummies.iloc[-2:]"
   ]
  },
  {
   "cell_type": "code",
   "execution_count": 107,
   "metadata": {},
   "outputs": [],
   "source": [
    "X = dataset_all_dummies.values\n",
    "savedModel = 'RFModel_Hackathon2.pickle'"
   ]
  },
  {
   "cell_type": "code",
   "execution_count": 108,
   "metadata": {},
   "outputs": [
    {
     "name": "stdout",
     "output_type": "stream",
     "text": [
      "model loaded.....\n"
     ]
    }
   ],
   "source": [
    "with open(savedModel, 'rb') as handle:\n",
    "        rf_clf_loaded = pickle.load(handle)\n",
    "        print(\"model loaded.....\")\n",
    "y_pred_all =rf_clf_loaded.predict(X)\n",
    "#output_df['Predition'] = y_pred\n"
   ]
  },
  {
   "cell_type": "code",
   "execution_count": 111,
   "metadata": {},
   "outputs": [
    {
     "data": {
      "text/plain": [
       "2"
      ]
     },
     "execution_count": 111,
     "metadata": {},
     "output_type": "execute_result"
    }
   ],
   "source": [
    "output_df.shape[0]"
   ]
  },
  {
   "cell_type": "code",
   "execution_count": 113,
   "metadata": {},
   "outputs": [
    {
     "data": {
      "text/plain": [
       "array([0., 0.])"
      ]
     },
     "execution_count": 113,
     "metadata": {},
     "output_type": "execute_result"
    }
   ],
   "source": [
    "y_pred_all[-output_df.shape[0]:]"
   ]
  },
  {
   "cell_type": "code",
   "execution_count": 114,
   "metadata": {},
   "outputs": [],
   "source": [
    "output_df['Predition'] = y_pred_all[-output_df.shape[0]:]"
   ]
  },
  {
   "cell_type": "code",
   "execution_count": 116,
   "metadata": {},
   "outputs": [
    {
     "data": {
      "text/html": [
       "<div>\n",
       "<style scoped>\n",
       "    .dataframe tbody tr th:only-of-type {\n",
       "        vertical-align: middle;\n",
       "    }\n",
       "\n",
       "    .dataframe tbody tr th {\n",
       "        vertical-align: top;\n",
       "    }\n",
       "\n",
       "    .dataframe thead th {\n",
       "        text-align: right;\n",
       "    }\n",
       "</style>\n",
       "<table border=\"1\" class=\"dataframe\">\n",
       "  <thead>\n",
       "    <tr style=\"text-align: right;\">\n",
       "      <th></th>\n",
       "      <th>course_name</th>\n",
       "      <th>section_name</th>\n",
       "      <th>fake_applicant_id</th>\n",
       "      <th>fake_email_address</th>\n",
       "      <th>Predition</th>\n",
       "    </tr>\n",
       "  </thead>\n",
       "  <tbody>\n",
       "    <tr>\n",
       "      <th>0</th>\n",
       "      <td>Org101 STL (July 2017)</td>\n",
       "      <td>Org101 LaunchCode Mentor Center</td>\n",
       "      <td>78806</td>\n",
       "      <td>LisaVWebb@fleckens.hu</td>\n",
       "      <td>0.0</td>\n",
       "    </tr>\n",
       "    <tr>\n",
       "      <th>1</th>\n",
       "      <td>Org101 STL (July 2017)</td>\n",
       "      <td>Org101 LaunchCode Mentor Center</td>\n",
       "      <td>78806</td>\n",
       "      <td>LisaVWebb@fleckens.hu</td>\n",
       "      <td>0.0</td>\n",
       "    </tr>\n",
       "  </tbody>\n",
       "</table>\n",
       "</div>"
      ],
      "text/plain": [
       "              course_name                     section_name fake_applicant_id  \\\n",
       "0  Org101 STL (July 2017)  Org101 LaunchCode Mentor Center             78806   \n",
       "1  Org101 STL (July 2017)  Org101 LaunchCode Mentor Center             78806   \n",
       "\n",
       "      fake_email_address  Predition  \n",
       "0  LisaVWebb@fleckens.hu        0.0  \n",
       "1  LisaVWebb@fleckens.hu        0.0  "
      ]
     },
     "execution_count": 116,
     "metadata": {},
     "output_type": "execute_result"
    }
   ],
   "source": [
    "output_df.head()"
   ]
  },
  {
   "cell_type": "code",
   "execution_count": 151,
   "metadata": {},
   "outputs": [
    {
     "name": "stdout",
     "output_type": "stream",
     "text": [
      "<class 'str'>\n",
      "[{\"course_name\":\"Org101 STL (July 2017)\",\"section_name\":\"Org101 LaunchCode Mentor Center\",\"fake_applicant_id\":\"78806\",\"fake_email_address\":\"LisaVWebb@fleckens.hu\",\"Predition\":0.0},{\"course_name\":\"Org101 STL (July 2017)\",\"section_name\":\"Org101 LaunchCode Mentor Center\",\"fake_applicant_id\":\"78806\",\"fake_email_address\":\"LisaVWebb@fleckens.hu\",\"Predition\":0.0}]\n",
      "[{\"FeatureName\":\"enrollment_status_completed\",\"FeatureImportance\":0.4638365778},{\"FeatureName\":\"enrollment_status_dropped\",\"FeatureImportance\":0.1468459078},{\"FeatureName\":\"enrollment_status_enrolled\",\"FeatureImportance\":0.0867316505},{\"FeatureName\":\"enrollment_status_withdrawn\",\"FeatureImportance\":0.066291389},{\"FeatureName\":\"age_birthday_masked\",\"FeatureImportance\":0.016904466},{\"FeatureName\":\"unit_Unit 3\",\"FeatureImportance\":0.0141531014},{\"FeatureName\":\"maxlearner_test_score_percent\",\"FeatureImportance\":0.011070662},{\"FeatureName\":\"hacker_rank_score\",\"FeatureImportance\":0.0110587915},{\"FeatureName\":\"hours_coded_0-5\",\"FeatureImportance\":0.0060026095},{\"FeatureName\":\"primary_interest_in_course_Apprentice_job\",\"FeatureImportance\":0.0036708658}]\n",
      "[{'FeatureName': 'enrollment_status_completed', 'FeatureImportance': 0.4638365778}, {'FeatureName': 'enrollment_status_dropped', 'FeatureImportance': 0.1468459078}, {'FeatureName': 'enrollment_status_enrolled', 'FeatureImportance': 0.0867316505}, {'FeatureName': 'enrollment_status_withdrawn', 'FeatureImportance': 0.066291389}, {'FeatureName': 'age_birthday_masked', 'FeatureImportance': 0.016904466}, {'FeatureName': 'unit_Unit 3', 'FeatureImportance': 0.0141531014}, {'FeatureName': 'maxlearner_test_score_percent', 'FeatureImportance': 0.011070662}, {'FeatureName': 'hacker_rank_score', 'FeatureImportance': 0.0110587915}, {'FeatureName': 'hours_coded_0-5', 'FeatureImportance': 0.0060026095}, {'FeatureName': 'primary_interest_in_course_Apprentice_job', 'FeatureImportance': 0.0036708658}]\n",
      "Show the final JSON obj...\n",
      "------------------------------------------------\n",
      "{'students': '[{\"course_name\":\"Org101 STL (July 2017)\",\"section_name\":\"Org101 LaunchCode Mentor Center\",\"fake_applicant_id\":\"78806\",\"fake_email_address\":\"LisaVWebb@fleckens.hu\",\"Predition\":0.0},{\"course_name\":\"Org101 STL (July 2017)\",\"section_name\":\"Org101 LaunchCode Mentor Center\",\"fake_applicant_id\":\"78806\",\"fake_email_address\":\"LisaVWebb@fleckens.hu\",\"Predition\":0.0}]', 'features': '[{\"FeatureName\":\"enrollment_status_completed\",\"FeatureImportance\":0.4638365778},{\"FeatureName\":\"enrollment_status_dropped\",\"FeatureImportance\":0.1468459078},{\"FeatureName\":\"enrollment_status_enrolled\",\"FeatureImportance\":0.0867316505},{\"FeatureName\":\"enrollment_status_withdrawn\",\"FeatureImportance\":0.066291389},{\"FeatureName\":\"age_birthday_masked\",\"FeatureImportance\":0.016904466},{\"FeatureName\":\"unit_Unit 3\",\"FeatureImportance\":0.0141531014},{\"FeatureName\":\"maxlearner_test_score_percent\",\"FeatureImportance\":0.011070662},{\"FeatureName\":\"hacker_rank_score\",\"FeatureImportance\":0.0110587915},{\"FeatureName\":\"hours_coded_0-5\",\"FeatureImportance\":0.0060026095},{\"FeatureName\":\"primary_interest_in_course_Apprentice_job\",\"FeatureImportance\":0.0036708658}]'}\n",
      "------------------------------------------------\n",
      "{\"students\": [{\"course_name\":\"Org101 STL (July 2017)\",\"section_name\":\"Org101 LaunchCode Mentor Center\",\"fake_applicant_id\":\"78806\",\"fake_email_address\":\"LisaVWebb@fleckens.hu\",\"Predition\":0.0},{\"course_name\":\"Org101 STL (July 2017)\",\"section_name\":\"Org101 LaunchCode Mentor Center\",\"fake_applicant_id\":\"78806\",\"fake_email_address\":\"LisaVWebb@fleckens.hu\",\"Predition\":0.0}], \"features\": [{\"FeatureName\":\"enrollment_status_completed\",\"FeatureImportance\":0.4638365778},{\"FeatureName\":\"enrollment_status_dropped\",\"FeatureImportance\":0.1468459078},{\"FeatureName\":\"enrollment_status_enrolled\",\"FeatureImportance\":0.0867316505},{\"FeatureName\":\"enrollment_status_withdrawn\",\"FeatureImportance\":0.066291389},{\"FeatureName\":\"age_birthday_masked\",\"FeatureImportance\":0.016904466},{\"FeatureName\":\"unit_Unit 3\",\"FeatureImportance\":0.0141531014},{\"FeatureName\":\"maxlearner_test_score_percent\",\"FeatureImportance\":0.011070662},{\"FeatureName\":\"hacker_rank_score\",\"FeatureImportance\":0.0110587915},{\"FeatureName\":\"hours_coded_0-5\",\"FeatureImportance\":0.0060026095},{\"FeatureName\":\"primary_interest_in_course_Apprentice_job\",\"FeatureImportance\":0.0036708658}]}\n"
     ]
    }
   ],
   "source": [
    "jsn = output_df.to_json(orient='records')\n",
    "print(type(jsn))\n",
    "print(jsn)\n",
    "feature_imp = pd.DataFrame({'FeatureName' : dataset_all_dummies.columns,\n",
    "                            'FeatureImportance' : rf_clf_loaded.feature_importances_}).sort_values(by = 'FeatureImportance',ascending=False)\n",
    "#dict_features = feature_imp.iloc[:10].to_dict('records')\n",
    "feature_json =feature_imp.iloc[:10].to_json(orient='records')\n",
    "print(feature_json)\n",
    "print(json.loads(feature_json))\n",
    "#jsnobj.append(dict_features)\n",
    "print(\"Show the final JSON obj...\")\n",
    "full_out = {'students':jsn, 'features':feature_json}\n",
    "print(\"------------------------------------------------\")\n",
    "print(full_out)\n",
    "print(\"------------------------------------------------\")\n",
    "print(json.dumps(full_out).replace('\\\\\"',\"\\\"\").replace('\"[', '[').replace(']\"', ']'))"
   ]
  },
  {
   "cell_type": "code",
   "execution_count": 127,
   "metadata": {},
   "outputs": [
    {
     "data": {
      "text/plain": [
       "[{'FeatureName': 'enrollment_status_completed',\n",
       "  'FeatureImportance': 0.46383657779303455},\n",
       " {'FeatureName': 'enrollment_status_dropped',\n",
       "  'FeatureImportance': 0.14684590777338205},\n",
       " {'FeatureName': 'enrollment_status_enrolled',\n",
       "  'FeatureImportance': 0.08673165046049769},\n",
       " {'FeatureName': 'enrollment_status_withdrawn',\n",
       "  'FeatureImportance': 0.06629138900627059},\n",
       " {'FeatureName': 'age_birthday_masked',\n",
       "  'FeatureImportance': 0.016904465996773345},\n",
       " {'FeatureName': 'unit_Unit 3', 'FeatureImportance': 0.014153101373922252},\n",
       " {'FeatureName': 'maxlearner_test_score_percent',\n",
       "  'FeatureImportance': 0.011070662023178074},\n",
       " {'FeatureName': 'hacker_rank_score',\n",
       "  'FeatureImportance': 0.011058791537452142},\n",
       " {'FeatureName': 'hours_coded_0-5', 'FeatureImportance': 0.006002609502396392},\n",
       " {'FeatureName': 'primary_interest_in_course_Apprentice_job',\n",
       "  'FeatureImportance': 0.003670865781864654}]"
      ]
     },
     "execution_count": 127,
     "metadata": {},
     "output_type": "execute_result"
    }
   ],
   "source": [
    "jsnobj[2]"
   ]
  },
  {
   "cell_type": "markdown",
   "metadata": {},
   "source": [
    "### "
   ]
  }
 ],
 "metadata": {
  "kernelspec": {
   "display_name": "Python 3",
   "language": "python",
   "name": "python3"
  },
  "language_info": {
   "codemirror_mode": {
    "name": "ipython",
    "version": 3
   },
   "file_extension": ".py",
   "mimetype": "text/x-python",
   "name": "python",
   "nbconvert_exporter": "python",
   "pygments_lexer": "ipython3",
   "version": "3.6.7"
  }
 },
 "nbformat": 4,
 "nbformat_minor": 2
}
